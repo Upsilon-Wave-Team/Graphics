{
 "cells": [
  {
   "cell_type": "code",
   "execution_count": 16,
   "metadata": {},
   "outputs": [],
   "source": [
    "import tkinter as tk\n",
    "import time\n",
    "from tkinter import *\n",
    "import time\n",
    "import PIL\n",
    "import matplotlib.pyplot as plt\n",
    "import numpy as np\n",
    "from mpl_toolkits.mplot3d import Axes3D"
   ]
  },
  {
   "cell_type": "code",
   "execution_count": 18,
   "metadata": {},
   "outputs": [],
   "source": [
    "def show_values():\n",
    "    print (ref.get(), trans.get(), loss.get())\n",
    "\n",
    "master = Tk()\n",
    "ref = Scale(master, from_=0, to=42, orient=HORIZONTAL, label='Reflectivity')\n",
    "ref.pack()\n",
    "trans = Scale(master, from_=0, to=42, orient=HORIZONTAL, label='Transmissivity')\n",
    "trans.pack()\n",
    "loss= Scale(master, from_=0, to=42, orient=HORIZONTAL, label='Loss')\n",
    "loss.pack()\n",
    "Button(master, text='Show', command=show_values).pack()\n",
    "\n",
    "mainloop()"
   ]
  }
 ],
 "metadata": {
  "kernelspec": {
   "display_name": "Python 3",
   "language": "python",
   "name": "python3"
  },
  "language_info": {
   "codemirror_mode": {
    "name": "ipython",
    "version": 3
   },
   "file_extension": ".py",
   "mimetype": "text/x-python",
   "name": "python",
   "nbconvert_exporter": "python",
   "pygments_lexer": "ipython3",
   "version": "3.7.4"
  }
 },
 "nbformat": 4,
 "nbformat_minor": 2
}
