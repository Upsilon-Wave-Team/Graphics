{
 "cells": [
  {
   "cell_type": "code",
   "execution_count": 22,
   "metadata": {},
   "outputs": [],
   "source": [
    "from tkinter import *\n",
    "\n",
    "def show_values():\n",
    "    print (ref.get(), trans.get(), loss.get())\n",
    "\n",
    "master = Tk()\n",
    "\n",
    "ref_var=IntVar()\n",
    "ref = Scale(master, from_=0, to=1, orient=HORIZONTAL, variable=ref_var, label='Reflectivity', resolution=0.01, sliderlength=10, length=150)\n",
    "ref.pack()\n",
    "\n",
    "trans_var=IntVar()\n",
    "trans = Scale(master, from_=0, to=1, orient=HORIZONTAL, variable=trans_var, label='Transmissivity', resolution=0.01, sliderlength=10, length=150)\n",
    "trans.pack()\n",
    "\n",
    "loss= Scale(master, from_=0, to=1, orient=HORIZONTAL, label='Loss', resolution=0.01, state='disabled', sliderlength=10, length=150)\n",
    "loss.set(1-trans.get()-ref.get())\n",
    "loss.pack()\n",
    "\n",
    "def trace_method(*args):\n",
    "    loss.config(state=\"normal\")\n",
    "    loss.set(1 - ref.get() - trans.get())\n",
    "    loss.config(state=\"disabled\")\n",
    "\n",
    "ref_var.trace(\"w\", trace_method)\n",
    "trans_var.trace(\"w\", trace_method)\n",
    "\n",
    "Button(master, text='Show', command=show_values).pack()\n",
    "\n",
    "master.mainloop()"
   ]
  }
 ],
 "metadata": {
  "kernelspec": {
   "display_name": "Python 3",
   "language": "python",
   "name": "python3"
  },
  "language_info": {
   "codemirror_mode": {
    "name": "ipython",
    "version": 3
   },
   "file_extension": ".py",
   "mimetype": "text/x-python",
   "name": "python",
   "nbconvert_exporter": "python",
   "pygments_lexer": "ipython3",
   "version": "3.7.4"
  }
 },
 "nbformat": 4,
 "nbformat_minor": 2
}
